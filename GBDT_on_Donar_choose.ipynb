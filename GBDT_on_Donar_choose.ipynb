{
  "nbformat": 4,
  "nbformat_minor": 0,
  "metadata": {
    "colab": {
      "name": "GBDT_on_Donar_choose.ipynb",
      "provenance": [],
      "collapsed_sections": [],
      "include_colab_link": true
    },
    "language_info": {
      "codemirror_mode": {
        "name": "ipython",
        "version": 3
      },
      "file_extension": ".py",
      "mimetype": "text/x-python",
      "name": "python",
      "nbconvert_exporter": "python",
      "pygments_lexer": "ipython3",
      "version": "3.6.8"
    },
    "kernelspec": {
      "display_name": "Python 3",
      "language": "python",
      "name": "python3"
    }
  },
  "cells": [
    {
      "cell_type": "markdown",
      "metadata": {
        "id": "view-in-github",
        "colab_type": "text"
      },
      "source": [
        "<a href=\"https://colab.research.google.com/github/sampu78/SQL/blob/master/GBDT_on_Donar_choose.ipynb\" target=\"_parent\"><img src=\"https://colab.research.google.com/assets/colab-badge.svg\" alt=\"Open In Colab\"/></a>"
      ]
    },
    {
      "cell_type": "markdown",
      "metadata": {
        "id": "8wqapAXjsc24",
        "colab_type": "text"
      },
      "source": [
        "# Assignment 9: GBDT"
      ]
    },
    {
      "cell_type": "markdown",
      "metadata": {
        "id": "8u5NhbnEsc2-",
        "colab_type": "text"
      },
      "source": [
        "#### Response Coding: Example"
      ]
    },
    {
      "cell_type": "markdown",
      "metadata": {
        "id": "HIFWmwHKsc3A",
        "colab_type": "text"
      },
      "source": [
        "<img src='http://i.imgur.com/TufZptV.jpg' width=700px>\n",
        "\n",
        "> The response tabel is built only on train dataset.\n",
        "> For a category which is not there in train data and present in test data, we will encode them with default values\n",
        "Ex: in our test data if have State: D then we encode it as [0.5, 0.05]"
      ]
    },
    {
      "cell_type": "markdown",
      "metadata": {
        "id": "3KwfGufDsc3D",
        "colab_type": "text"
      },
      "source": [
        "<ol>\n",
        "    <li><strong>Apply GBDT on these feature sets</strong>\n",
        "        <ul>\n",
        "            <li><font color='red'>Set 1</font>: categorical(instead of one hot encoding, try <a href='https://www.appliedaicourse.com/course/applied-ai-course-online/lessons/handling-categorical-and-numerical-features/'>response coding</a>: use probability values), numerical features + project_title(TFIDF)+  preprocessed_eassay (TFIDF)+sentiment Score of eassay(check the bellow example, include all 4 values as 4 features)</li>\n",
        "            <li><font color='red'>Set 2</font>: categorical(instead of one hot encoding, try <a href='https://www.appliedaicourse.com/course/applied-ai-course-online/lessons/handling-categorical-and-numerical-features/'>response coding</a>: use probability values), numerical features + project_title(TFIDF W2V)+  preprocessed_eassay (TFIDF W2V)</li>        </ul>\n",
        "    </li>\n",
        "    <li><strong>The hyper paramter tuning (Consider any two hyper parameters)</strong>\n",
        "        <ul>\n",
        "    <li>Find the best hyper parameter which will give the maximum <a href='https://www.appliedaicourse.com/course/applied-ai-course-online/lessons/receiver-operating-characteristic-curve-roc-curve-and-auc-1/'>AUC</a> value</li>\n",
        "    <li>find the best hyper paramter using k-fold cross validation/simple cross validation data</li>\n",
        "    <li>use gridsearch cv or randomsearch cv or you can write your own for loops to do this task</li>\n",
        "        </ul>\n",
        "    </li>\n",
        "    <li>\n",
        "    <strong>Representation of results</strong>\n",
        "        <ul>\n",
        "    <li>You need to plot the performance of model both on train data and cross validation data for each hyper parameter, like shown in the figure\n",
        "    <img src='https://i.imgur.com/Gp2DQmh.jpg' width=500px> with X-axis as <strong>n_estimators</strong>, Y-axis as <strong>max_depth</strong>, and Z-axis as <strong>AUC Score</strong> , we have given the notebook which explains how to plot this 3d plot, you can find it in the same drive <i>3d_scatter_plot.ipynb</i></li>\n",
        "            <p style=\"text-align:center;font-size:30px;color:red;\"><strong>or</strong></p> <br>\n",
        "    <li>You need to plot the performance of model both on train data and cross validation data for each hyper parameter, like shown in the figure\n",
        "    <img src='https://i.imgur.com/fgN9aUP.jpg' width=300px> <a href='https://seaborn.pydata.org/generated/seaborn.heatmap.html'>seaborn heat maps</a> with rows as <strong>n_estimators</strong>, columns as <strong>max_depth</strong>, and values inside the cell representing <strong>AUC Score</strong> </li>\n",
        "    <li>You choose either of the plotting techniques out of 3d plot or heat map</li>\n",
        "    <li>Once after you found the best hyper parameter, you need to train your model with it, and find the AUC on test data and plot the ROC curve on both train and test.\n",
        "    <img src='https://i.imgur.com/wMQDTFe.jpg' width=300px></li>\n",
        "    <li>Along with plotting ROC curve, you need to print the <a href='https://www.appliedaicourse.com/course/applied-ai-course-online/lessons/confusion-matrix-tpr-fpr-fnr-tnr-1/'>confusion matrix</a> with predicted and original labels of test data points\n",
        "    <img src='https://i.imgur.com/IdN5Ctv.png' width=300px></li>\n",
        "            </ul>\n",
        "    <br>\n",
        "    <li>You need to summarize the results at the end of the notebook, summarize it in the table format\n",
        "        <img src='http://i.imgur.com/YVpIGGE.jpg' width=400px>\n",
        "    </li>\n",
        "</ol>"
      ]
    },
    {
      "cell_type": "code",
      "metadata": {
        "id": "iffa2_WGsc3H",
        "colab_type": "code",
        "colab": {
          "base_uri": "https://localhost:8080/",
          "height": 105
        },
        "outputId": "72060691-8320-4872-bce1-be9ca2a6c2ef"
      },
      "source": [
        "import nltk\n",
        "from nltk.sentiment.vader import SentimentIntensityAnalyzer\n",
        "\n",
        "import nltk\n",
        "nltk.download('vader_lexicon')\n",
        "\n",
        "sid = SentimentIntensityAnalyzer()\n",
        "\n",
        "for_sentiment = 'a person is a person no matter how small dr seuss i teach the smallest students with the biggest enthusiasm \\\n",
        "for learning my students learn in many different ways using all of our senses and multiple intelligences i use a wide range\\\n",
        "of techniques to help all my students succeed students in my class come from a variety of different backgrounds which makes\\\n",
        "for wonderful sharing of experiences and cultures including native americans our school is a caring community of successful \\\n",
        "learners which can be seen through collaborative student project based learning in and out of the classroom kindergarteners \\\n",
        "in my class love to work with hands on materials and have many different opportunities to practice a skill before it is\\\n",
        "mastered having the social skills to work cooperatively with friends is a crucial aspect of the kindergarten curriculum\\\n",
        "montana is the perfect place to learn about agriculture and nutrition my students love to role play in our pretend kitchen\\\n",
        "in the early childhood classroom i have had several kids ask me can we try cooking with real food i will take their idea \\\n",
        "and create common core cooking lessons where we learn important math and writing concepts while cooking delicious healthy \\\n",
        "food for snack time my students will have a grounded appreciation for the work that went into making the food and knowledge \\\n",
        "of where the ingredients came from as well as how it is healthy for their bodies this project would expand our learning of \\\n",
        "nutrition and agricultural cooking recipes by having us peel our own apples to make homemade applesauce make our own bread \\\n",
        "and mix up healthy plants from our classroom garden in the spring we will also create our own cookbooks to be printed and \\\n",
        "shared with families students will gain math and literature skills as well as a life long enjoyment for healthy cooking \\\n",
        "nannan'\n",
        "ss = sid.polarity_scores(for_sentiment)\n",
        "\n",
        "for k in ss:\n",
        "    print('{0}: {1}, '.format(k, ss[k]), end='')\n",
        "\n",
        "# we can use these 4 things as features/attributes (neg, neu, pos, compound)\n",
        "# neg: 0.0, neu: 0.753, pos: 0.247, compound: 0.93"
      ],
      "execution_count": null,
      "outputs": [
        {
          "output_type": "stream",
          "text": [
            "/usr/local/lib/python3.6/dist-packages/nltk/twitter/__init__.py:20: UserWarning: The twython library has not been installed. Some functionality from the twitter package will not be available.\n",
            "  warnings.warn(\"The twython library has not been installed. \"\n"
          ],
          "name": "stderr"
        },
        {
          "output_type": "stream",
          "text": [
            "[nltk_data] Downloading package vader_lexicon to /root/nltk_data...\n",
            "neg: 0.01, neu: 0.745, pos: 0.245, compound: 0.9975, "
          ],
          "name": "stdout"
        }
      ]
    },
    {
      "cell_type": "code",
      "metadata": {
        "id": "NXaJ38UZjZLF",
        "colab_type": "code",
        "colab": {}
      },
      "source": [
        "#Importing Libraries\n",
        "\n",
        "%matplotlib inline\n",
        "import warnings\n",
        "warnings.filterwarnings(\"ignore\")\n",
        "\n",
        "import sqlite3\n",
        "import pandas as pd\n",
        "import numpy as np\n",
        "import nltk\n",
        "import string\n",
        "import matplotlib.pyplot as plt\n",
        "import seaborn as sns\n",
        "from sklearn.feature_extraction.text import TfidfTransformer\n",
        "from sklearn.feature_extraction.text import TfidfVectorizer\n",
        "\n",
        "from sklearn.feature_extraction.text import CountVectorizer\n",
        "from sklearn.metrics import confusion_matrix\n",
        "from sklearn import metrics\n",
        "from sklearn.metrics import roc_curve, auc , roc_auc_score\n",
        "from nltk.stem.porter import PorterStemmer\n",
        "from sklearn.model_selection import train_test_split, KFold\n",
        "from sklearn.preprocessing import Normalizer\n",
        "import nltk\n",
        "from nltk.sentiment.vader import SentimentIntensityAnalyzer\n",
        "from scipy.sparse import hstack\n",
        "\n",
        "import re\n",
        "# Tutorial about Python regular expressions: https://pymotw.com/2/re/\n",
        "import string\n",
        "from nltk.corpus import stopwords\n",
        "from nltk.stem import PorterStemmer\n",
        "from nltk.stem.wordnet import WordNetLemmatizer\n",
        "\n",
        "from gensim.models import Word2Vec\n",
        "from gensim.models import KeyedVectors\n",
        "import pickle\n",
        "\n",
        "from tqdm import tqdm\n",
        "import os"
      ],
      "execution_count": 78,
      "outputs": []
    },
    {
      "cell_type": "markdown",
      "metadata": {
        "id": "BOyTl7oKsc3W",
        "colab_type": "text"
      },
      "source": [
        "<h1>1. GBDT (xgboost/lightgbm) </h1>"
      ]
    },
    {
      "cell_type": "markdown",
      "metadata": {
        "id": "VWge-b2Zsc3Z",
        "colab_type": "text"
      },
      "source": [
        "## 1.1 Loading Data"
      ]
    },
    {
      "cell_type": "code",
      "metadata": {
        "id": "WDZFu6-usc3d",
        "colab_type": "code",
        "colab": {
          "base_uri": "https://localhost:8080/",
          "height": 122
        },
        "outputId": "f2dd7760-09dc-4dd2-c2e8-0effe8dd305e"
      },
      "source": [
        "from google.colab import drive\n",
        "drive.mount('/content/drive/')"
      ],
      "execution_count": 1,
      "outputs": [
        {
          "output_type": "stream",
          "text": [
            "Go to this URL in a browser: https://accounts.google.com/o/oauth2/auth?client_id=947318989803-6bn6qk8qdgf4n4g3pfee6491hc0brc4i.apps.googleusercontent.com&redirect_uri=urn%3aietf%3awg%3aoauth%3a2.0%3aoob&response_type=code&scope=email%20https%3a%2f%2fwww.googleapis.com%2fauth%2fdocs.test%20https%3a%2f%2fwww.googleapis.com%2fauth%2fdrive%20https%3a%2f%2fwww.googleapis.com%2fauth%2fdrive.photos.readonly%20https%3a%2f%2fwww.googleapis.com%2fauth%2fpeopleapi.readonly\n",
            "\n",
            "Enter your authorization code:\n",
            "··········\n",
            "Mounted at /content/drive/\n"
          ],
          "name": "stdout"
        }
      ]
    },
    {
      "cell_type": "code",
      "metadata": {
        "id": "ABA3rHN9jv_F",
        "colab_type": "code",
        "colab": {
          "base_uri": "https://localhost:8080/",
          "height": 34
        },
        "outputId": "8b263223-3676-4540-c97e-750abd89f8b3"
      },
      "source": [
        "cd drive/'My Drive'/Files/"
      ],
      "execution_count": 2,
      "outputs": [
        {
          "output_type": "stream",
          "text": [
            "/content/drive/My Drive/Files\n"
          ],
          "name": "stdout"
        }
      ]
    },
    {
      "cell_type": "code",
      "metadata": {
        "id": "3uvdAy_K8f7j",
        "colab_type": "code",
        "colab": {
          "base_uri": "https://localhost:8080/",
          "height": 34
        },
        "outputId": "d87dd2f1-1616-4860-c094-1631c5b5b53a"
      },
      "source": [
        "cd AppliedAI/DeepLearning_1/LSTM_on_Donar_Choose/"
      ],
      "execution_count": 7,
      "outputs": [
        {
          "output_type": "stream",
          "text": [
            "/content/drive/My Drive/AppliedAI/DeepLearning_1/LSTM_on_Donar_Choose\n"
          ],
          "name": "stdout"
        }
      ]
    },
    {
      "cell_type": "code",
      "metadata": {
        "id": "LDSopjCdjznC",
        "colab_type": "code",
        "colab": {}
      },
      "source": [
        "data = pd.read_csv('preprocessed_data.csv', nrows=50000)"
      ],
      "execution_count": 8,
      "outputs": []
    },
    {
      "cell_type": "code",
      "metadata": {
        "id": "WnFZ76Hn8rfv",
        "colab_type": "code",
        "colab": {
          "base_uri": "https://localhost:8080/",
          "height": 34
        },
        "outputId": "335d8614-754f-4e9b-9571-c5377f735255"
      },
      "source": [
        "data.shape"
      ],
      "execution_count": 11,
      "outputs": [
        {
          "output_type": "execute_result",
          "data": {
            "text/plain": [
              "(50000, 9)"
            ]
          },
          "metadata": {
            "tags": []
          },
          "execution_count": 11
        }
      ]
    },
    {
      "cell_type": "code",
      "metadata": {
        "id": "du1cFOy58_S_",
        "colab_type": "code",
        "colab": {}
      },
      "source": [
        "y = data.project_is_approved\n",
        "X = data.drop([\"project_is_approved\"], axis=1)"
      ],
      "execution_count": 12,
      "outputs": []
    },
    {
      "cell_type": "markdown",
      "metadata": {
        "id": "nxrQgLno9BNH",
        "colab_type": "text"
      },
      "source": [
        "## Train Test Split"
      ]
    },
    {
      "cell_type": "code",
      "metadata": {
        "id": "uXW9TB1g9Aho",
        "colab_type": "code",
        "colab": {}
      },
      "source": [
        "X_train, X_test, y_train, y_test = train_test_split(X, y, test_size= 0.33, stratify=y)"
      ],
      "execution_count": 15,
      "outputs": []
    },
    {
      "cell_type": "markdown",
      "metadata": {
        "id": "T1xyd_sX9oad",
        "colab_type": "text"
      },
      "source": [
        "## Defining One Hot Encoding"
      ]
    },
    {
      "cell_type": "code",
      "metadata": {
        "id": "A6jCq-CF9nGF",
        "colab_type": "code",
        "colab": {}
      },
      "source": [
        "def convert_text_into_TFIDF(feature):\n",
        "  vectorizer = TfidfVectorizer(min_df = 10, ngram_range=(1,4), max_features=5000)\n",
        "  vectorizer.fit(X_train[feature].values)\n",
        "  X_train_ohe = vectorizer.transform(X_train[feature].values)\n",
        "  X_test_ohe = vectorizer.transform(X_test[feature].values)\n",
        "  return vectorizer, X_train_ohe, X_test_ohe"
      ],
      "execution_count": 17,
      "outputs": []
    },
    {
      "cell_type": "code",
      "metadata": {
        "id": "MToc7Lj79nOe",
        "colab_type": "code",
        "colab": {}
      },
      "source": [
        "with open('glove_vectors', 'rb') as f:\n",
        "  model = pickle.load(f)\n",
        "  glove_words = set(model.keys())\n",
        "  \n",
        "def calculate_TFIDF_Weighted_W2V(feature_value, dictionary, tfidf_words):\n",
        "  tfidf_w2v_vectors = []\n",
        "  for sentence in feature_value:\n",
        "    vector = np.zeros(300)\n",
        "    tf_idf_weight = 0\n",
        "    for word in sentence.split():\n",
        "      if(word in tfidf_words) and (word in glove_words):\n",
        "        vec = model[word]\n",
        "        tf_idf = dictionary[word] * (sentence.count(word)/len(sentence.split()))\n",
        "        vector += (vec * tf_idf)\n",
        "        tf_idf_weight += tf_idf\n",
        "    if tf_idf_weight != 0:\n",
        "      vector /= tf_idf_weight\n",
        "    tfidf_w2v_vectors.append(vector)\n",
        "  return tfidf_w2v_vectors\n",
        "\n",
        "\n",
        "def convert_Text_Into_TFIDF_Weighted_W2V(feature):\n",
        "  tfidf_model = TfidfVectorizer()\n",
        "  tfidf_model.fit(X_train[feature].values)\n",
        "  dictionary = dict(zip(tfidf_model.get_feature_names(), list(tfidf_model.idf_)))\n",
        "  tfidf_words = set(tfidf_model.get_feature_names())\n",
        "  X_train_tfidf_w2v = calculate_TFIDF_Weighted_W2V(X_train[feature].values, dictionary, tfidf_words)\n",
        "  X_test_tfidf_w2v = calculate_TFIDF_Weighted_W2V(X_test[feature].values, dictionary,tfidf_words)\n",
        "  return tfidf_model, X_train_tfidf_w2v, X_test_tfidf_w2v"
      ],
      "execution_count": 19,
      "outputs": []
    },
    {
      "cell_type": "markdown",
      "metadata": {
        "id": "Qz1ujLtF-sSx",
        "colab_type": "text"
      },
      "source": [
        "## Function for Response  Coding"
      ]
    },
    {
      "cell_type": "code",
      "metadata": {
        "id": "Gb0CjjpM9naw",
        "colab_type": "code",
        "colab": {}
      },
      "source": [
        "def get_response_code(X_train, y_train):\n",
        "  df = pd.DataFrame({ 'X_train': X_train, 'y_train' : y_train })\n",
        "  categories = df.X_train.unique()\n",
        "  lst_response_code = []\n",
        "  for category in categories:\n",
        "    probablity_0 = 0\n",
        "    probablity_1 = 0\n",
        "    df_category = df[df.X_train == category]\n",
        "    for i in range(len(df_category)):\n",
        "      if df_category.X_train.values[i] == category:\n",
        "        if df_category.y_train.values[i] == 0:\n",
        "          probablity_0 += 1\n",
        "        else:\n",
        "          probablity_1 += 1\n",
        "    response_code = {'category' : category,\n",
        "                    'category_0' : probablity_0,\n",
        "                    'category_1' : probablity_1,\n",
        "                    'category_tot': probablity_0+ probablity_1 }\n",
        "    lst_response_code.append(response_code)\n",
        "  return pd.DataFrame(lst_response_code)\n"
      ],
      "execution_count": 20,
      "outputs": []
    },
    {
      "cell_type": "code",
      "metadata": {
        "id": "Z0k6Cq8j9n31",
        "colab_type": "code",
        "colab": {}
      },
      "source": [
        "def encode_categorical_with_response_code(X, df_response_code):\n",
        "  lst_category_0_1 = []\n",
        "  for data in X:\n",
        "    df_res = df_response_code[df_response_code.category == data]\n",
        "    if len(df_res) != 0:\n",
        "      lst_category_0_1.append([df_res.category_0.values[0] / df_res.category_tot.values[0],df_res.category_1.values[0] / df_res.category_tot.values[0]])\n",
        "    else:\n",
        "      lst_category_0_1.append([0.5, 0.5])\n",
        "  return lst_category_0_1\n"
      ],
      "execution_count": 21,
      "outputs": []
    },
    {
      "cell_type": "code",
      "metadata": {
        "id": "VVarQgUh9nUa",
        "colab_type": "code",
        "colab": {}
      },
      "source": [
        "def convert_categorical_Into_1_and_0(feature):\n",
        "  df_response_code = get_response_code(X_train[feature], y_train)\n",
        "  X_train_0_1 = encode_categorical_with_response_code(X_train[feature].values, df_response_code)\n",
        "  X_test_0_1 = encode_categorical_with_response_code(X_test[feature].values, df_response_code)\n",
        "  return df_response_code, X_train_0_1, X_test_0_1\n"
      ],
      "execution_count": 22,
      "outputs": []
    },
    {
      "cell_type": "code",
      "metadata": {
        "id": "HKghua8G9nLD",
        "colab_type": "code",
        "colab": {}
      },
      "source": [
        "def encode_numerical_features(feature):\n",
        "  normalizer = Normalizer()\n",
        "  normalizer.fit(X_train[feature].values.reshape(1,-1))\n",
        "  X_train_ohe = normalizer.transform(X_train[feature].values.reshape(1,-1))\n",
        "  X_test_ohe = normalizer.transform(X_test[feature].values.reshape(1,-1))\n",
        "  return normalizer, X_train_ohe.reshape(-1,1), X_test_ohe.reshape(-1,1)"
      ],
      "execution_count": 23,
      "outputs": []
    },
    {
      "cell_type": "code",
      "metadata": {
        "id": "_vtqQYmD9m7d",
        "colab_type": "code",
        "colab": {}
      },
      "source": [
        "def get_essay_sentiment_score(X_essay):\n",
        "\n",
        "  sid = SentimentIntensityAnalyzer()\n",
        "\n",
        "  lst_sentiments = []\n",
        "\n",
        "  for data in X_essay:\n",
        "\n",
        "    ss = sid.polarity_scores(data)\n",
        "\n",
        "    lst_sentiments.append([ss['neg'], ss['neu'], ss['pos'], ss['compound']])\n",
        "    \n",
        "  return lst_sentiments"
      ],
      "execution_count": 24,
      "outputs": []
    },
    {
      "cell_type": "markdown",
      "metadata": {
        "id": "5LIHmTkQAWEK",
        "colab_type": "text"
      },
      "source": [
        "## Applying One Hot encoding on Categrical Features"
      ]
    },
    {
      "cell_type": "code",
      "metadata": {
        "id": "j3_6j7yZASmi",
        "colab_type": "code",
        "colab": {}
      },
      "source": [
        "#Performing Response code encoding for School State\n",
        "df_rspnse_code_state, X_train_state_0_1, X_test_state_0_1 = convert_categorical_Into_1_and_0('school_state')\n",
        "lst_state_features = df_rspnse_code_state.category.values\n",
        "\n",
        "#Performing Response code encoding for tech_prefix\n",
        "df_rspnse_code_tchr_prfx, X_train_tchr_prfx_0_1, X_test_tchr_prfx_0_1 = convert_categorical_Into_1_and_0('teacher_prefix')\n",
        "lst_tchr_prfx_features = df_rspnse_code_tchr_prfx.category.values\n",
        "\n",
        "#Performing Response code encoding for grade_category\n",
        "df_rspnse_code_grade, X_train_grade_0_1, X_test_grade_0_1 = convert_categorical_Into_1_and_0('project_grade_category')\n",
        "lst_grade_features = df_rspnse_code_grade.category.values\n",
        "\n",
        "#Performing Response code encoding for categories\n",
        "df_rspnse_code_categories, X_train_categories_0_1, X_test_categories_0_1 = convert_categorical_Into_1_and_0('clean_categories')\n",
        "lst_categories_features = df_rspnse_code_categories.category.values\n",
        "\n",
        "#Performing Response code encoding for subcategories\n",
        "df_rspnse_code_subcategories, X_train_subcategories_0_1, X_test_subcategories_0_1 = convert_categorical_Into_1_and_0('clean_subcategories')\n",
        "lst_subcategories_features = df_rspnse_code_subcategories.category.values\n"
      ],
      "execution_count": 25,
      "outputs": []
    },
    {
      "cell_type": "markdown",
      "metadata": {
        "id": "ofIwEZpjA-bn",
        "colab_type": "text"
      },
      "source": [
        "## Applying Normailzation on  Numerical Features"
      ]
    },
    {
      "cell_type": "code",
      "metadata": {
        "id": "5Fi9UkhrASio",
        "colab_type": "code",
        "colab": {}
      },
      "source": [
        "#Permoring normalization on teacher_number_of_previously_posted_projects\n",
        "normalizer_prev_projects, X_train_prev_projects, X_test_prev_projects = encode_numerical_features('teacher_number_of_previously_posted_projects')\n",
        "\n",
        "# Permoring normalization on Price\n",
        "normalizer_price, X_train_price, X_test_price = encode_numerical_features('price')\n"
      ],
      "execution_count": 28,
      "outputs": []
    },
    {
      "cell_type": "markdown",
      "metadata": {
        "id": "GU3ZvEhuBzSt",
        "colab_type": "text"
      },
      "source": [
        "## Essay Sentiment Score"
      ]
    },
    {
      "cell_type": "code",
      "metadata": {
        "id": "W08dFgoNASgX",
        "colab_type": "code",
        "colab": {}
      },
      "source": [
        "lst_train_sentiments = get_essay_sentiment_score(X_train['essay'].values)\n",
        "\n",
        "lst_test_sentiments = get_essay_sentiment_score(X_test['essay'].values)"
      ],
      "execution_count": 34,
      "outputs": []
    },
    {
      "cell_type": "markdown",
      "metadata": {
        "id": "ndcadFpJDbfL",
        "colab_type": "text"
      },
      "source": [
        "## One hot encoding Essay"
      ]
    },
    {
      "cell_type": "code",
      "metadata": {
        "id": "MS9BOW3rDXFF",
        "colab_type": "code",
        "colab": {}
      },
      "source": [
        "tfdif_vectorizer_essay, X_train_essay_tfidf, X_test_essay_tfidf = convert_text_into_TFIDF('essay')\n"
      ],
      "execution_count": 35,
      "outputs": []
    },
    {
      "cell_type": "code",
      "metadata": {
        "id": "1MPgeFCtDXJ-",
        "colab_type": "code",
        "colab": {}
      },
      "source": [
        "w2v_vectorizer_essay, X_train_essay_w2v, X_test_essay_w2v = convert_Text_Into_TFIDF_Weighted_W2V('essay')\n"
      ],
      "execution_count": 36,
      "outputs": []
    },
    {
      "cell_type": "markdown",
      "metadata": {
        "id": "le1Y1m4lEKG2",
        "colab_type": "text"
      },
      "source": [
        "## Concatenating all Features"
      ]
    },
    {
      "cell_type": "code",
      "metadata": {
        "id": "tubcgz0wDXBx",
        "colab_type": "code",
        "colab": {}
      },
      "source": [
        "X_tr_set1 = hstack((X_train_state_0_1, X_train_tchr_prfx_0_1, X_train_grade_0_1, X_train_categories_0_1,X_train_subcategories_0_1, X_train_prev_projects, X_train_price, X_train_essay_tfidf,lst_train_sentiments)).tocsr()\n",
        "X_te_set1 = hstack((X_test_state_0_1, X_test_tchr_prfx_0_1, X_test_grade_0_1, X_test_categories_0_1,X_test_subcategories_0_1, X_test_prev_projects, X_test_price, X_test_essay_tfidf,lst_test_sentiments)).tocsr()"
      ],
      "execution_count": 39,
      "outputs": []
    },
    {
      "cell_type": "code",
      "metadata": {
        "id": "wo8jEm5sE1p4",
        "colab_type": "code",
        "colab": {}
      },
      "source": [
        "X_tr_set2 = np.hstack((X_train_state_0_1, X_train_tchr_prfx_0_1, X_train_grade_0_1, X_train_categories_0_1,X_train_subcategories_0_1, X_train_prev_projects, X_train_price, X_train_essay_w2v,lst_train_sentiments))\n",
        "X_te_set2 = np.hstack((X_test_state_0_1, X_test_tchr_prfx_0_1, X_test_grade_0_1, X_test_categories_0_1,X_test_subcategories_0_1, X_test_prev_projects, X_test_price, X_test_essay_w2v,lst_test_sentiments))\n"
      ],
      "execution_count": 40,
      "outputs": []
    },
    {
      "cell_type": "code",
      "metadata": {
        "id": "O8gcWTyoFDH2",
        "colab_type": "code",
        "colab": {}
      },
      "source": [
        "class CV_Results:\n",
        "  def __init__(self, depth, estimator, acc_score):\n",
        "    self.depth = depth\n",
        "    self.estimator = estimator\n",
        "    self.acc_score = acc_score\n"
      ],
      "execution_count": 41,
      "outputs": []
    },
    {
      "cell_type": "code",
      "metadata": {
        "id": "F2vkmLRCFDV3",
        "colab_type": "code",
        "colab": {}
      },
      "source": [
        "def getTrain_and_Cv_scores(grid_search):\n",
        "  lst_train_scores = []\n",
        "  lst_cv_scores = []\n",
        "  idx_score = 0\n",
        "  for i, depth in enumerate(depth_range):\n",
        "    for j, estimator in enumerate(n_estimator):\n",
        "      train_scores = []\n",
        "      cv_scores = []\n",
        "      for k in range(n_folds):\n",
        "        k_fold_train_score = grid_search.cv_results_['split' + str(k) +'_train_score'][idx_score]\n",
        "        k_fold_cv_score = grid_search.cv_results_['split' + str(k) +'_test_score'][idx_score]\n",
        "        train_scores.append(k_fold_train_score)\n",
        "        cv_scores.append(k_fold_cv_score)\n",
        "      idx_score += 1\n",
        "      train_result = CV_Results(depth, estimator, np.mean(np.array(train_scores)))\n",
        "      cv_result = CV_Results(depth, estimator, np.mean(np.array(cv_scores)))\n",
        "      lst_train_scores.append(train_result)\n",
        "      lst_cv_scores.append(cv_result)\n",
        "  return lst_train_scores, lst_cv_scores\n"
      ],
      "execution_count": 65,
      "outputs": []
    },
    {
      "cell_type": "code",
      "metadata": {
        "id": "oWZtFQVPFC2R",
        "colab_type": "code",
        "colab": {}
      },
      "source": [
        "def print_train_cv_score(lst_train_scores, lst_cv_scores):\n",
        "  print('\\n---------Train scores----------')\n",
        "\n",
        "  for scores in lst_train_scores:\n",
        "\n",
        "    print(f'Depth :{scores.depth} Estimator :{scores.estimator} Auc score:{scores.acc_score}')\n",
        "\n",
        "  print('\\n---------CV scores----------')\n",
        "  for scores in lst_cv_scores:\n",
        "    \n",
        "    print(f'Depth :{scores.depth} Estimator :{scores.estimator} Auc score:{scores.acc_score}')\n"
      ],
      "execution_count": 63,
      "outputs": []
    },
    {
      "cell_type": "code",
      "metadata": {
        "id": "fUPI1yfqG-p2",
        "colab_type": "code",
        "colab": {}
      },
      "source": [
        "def plot_HeatMap(lst_train_scores, lst_cv_scores):\n",
        "  lst_train_cv_scores = [lst_train_scores, lst_cv_scores]\n",
        "  fig = plt.figure(figsize = (15,5))\n",
        "  plot_counter = 1\n",
        "  for data in lst_train_cv_scores:\n",
        "    estimator = []\n",
        "    depth = []\n",
        "    auc_scores = []\n",
        "\n",
        "    for x in data:\n",
        "      estimator.append(x.estimator)\n",
        "      depth.append(x.depth)\n",
        "      auc_scores.append(x.acc_score)\n",
        "\n",
        "    df = pd.DataFrame.from_dict(np.array([estimator,depth,auc_scores]).T)\n",
        "    df.columns = ['Estimator','Depth','AUC Scores']\n",
        "    df['AUC Scores'] = pd.to_numeric(df['AUC Scores'])\n",
        "    pivotted= df.pivot('Estimator','Depth','AUC Scores')\n",
        "    sns.heatmap(pivotted, ax= fig.add_subplot(1, 2, plot_counter), annot=True, cmap='coolwarm')\n",
        "    if plot_counter == 1:\n",
        "      plt.title('Train AUC Scores for each Hyperparameter')\n",
        "    else:\n",
        "      plt.title('CV AUC Scores for each Hyperparameter')\n",
        "    plot_counter +=1"
      ],
      "execution_count": 45,
      "outputs": []
    },
    {
      "cell_type": "code",
      "metadata": {
        "id": "IUmF2YEwHln-",
        "colab_type": "code",
        "colab": {}
      },
      "source": [
        "def plot_AUC(train_fpr, train_tpr, test_fpr, test_tpr, train_auc, test_auc, title):\n",
        "\n",
        "  plt.plot(train_fpr, train_tpr, label= f\"Train AUC = {train_auc}\" )\n",
        "  plt.plot(test_fpr, test_tpr, label = f\"Test AUC = {test_auc}\")\n",
        "  plt.plot([0, 1], [0, 1], color='navy', lw=2, linestyle='--')\n",
        "  plt.legend()\n",
        "  plt.xlabel(\"False Positive Rate\")\n",
        "  plt.ylabel(\"True Positive Rate\")\n",
        "  plt.title(title)\n",
        "  plt.grid()\n",
        "  plt.show()\n"
      ],
      "execution_count": 46,
      "outputs": []
    },
    {
      "cell_type": "code",
      "metadata": {
        "id": "tXbbjBUVItRF",
        "colab_type": "code",
        "colab": {}
      },
      "source": [
        "depth_range = [1, 2, 3, 4, 5]\n",
        "n_estimator = [70, 80, 90, 100]\n",
        "param = {'max_depth': depth_range, 'n_estimators': n_estimator}\n",
        "n_folds = 3\n"
      ],
      "execution_count": 51,
      "outputs": []
    },
    {
      "cell_type": "markdown",
      "metadata": {
        "id": "I5wDFj17sc3-",
        "colab_type": "text"
      },
      "source": [
        "<h2>1.5 Appling Models on different kind of featurization as mentioned in the instructions</h2>"
      ]
    },
    {
      "cell_type": "markdown",
      "metadata": {
        "id": "O5tWox1jsc3_",
        "colab_type": "text"
      },
      "source": [
        "<br>Apply GBDT on different kind of featurization as mentioned in the instructions\n",
        "<br> For Every model that you work on make sure you do the step 2 and step 3 of instrucations"
      ]
    },
    {
      "cell_type": "markdown",
      "metadata": {
        "id": "sPiiBWgkHe9k",
        "colab_type": "text"
      },
      "source": [
        "#### Set 1: categorical(instead of one hot encoding, try response coding: use probability values), numerical features + project_title(TFIDF)+ preprocessed_eassay (TFIDF)+sentiment Score of eassay(check the bellow example, include all 4 values as 4 features)"
      ]
    },
    {
      "cell_type": "code",
      "metadata": {
        "id": "FiFGR7HNKQzx",
        "colab_type": "code",
        "colab": {
          "base_uri": "https://localhost:8080/",
          "height": 34
        },
        "outputId": "bda8c58a-c633-4b76-fd4f-bf6765f080a5"
      },
      "source": [
        "import xgboost as xgb\n",
        "from sklearn.model_selection import GridSearchCV\n",
        "\n",
        "clf = xgb.XGBClassifier()\n",
        "#Finding best alpha using GridSearchCV method\n",
        "clf_set1 = GridSearchCV(estimator = clf, param_grid= param, cv=n_folds, scoring='roc_auc',return_train_score=True)\n",
        "clf_set1.fit(X_tr_set1, y_train)\n",
        "clf_set1.best_params_"
      ],
      "execution_count": 72,
      "outputs": [
        {
          "output_type": "execute_result",
          "data": {
            "text/plain": [
              "{'max_depth': 5, 'n_estimators': 100}"
            ]
          },
          "metadata": {
            "tags": []
          },
          "execution_count": 72
        }
      ]
    },
    {
      "cell_type": "code",
      "metadata": {
        "id": "K7joDFYUmtSn",
        "colab_type": "code",
        "colab": {}
      },
      "source": [
        "lst_train_scores_set1, lst_cv_scores_set1 = getTrain_and_Cv_scores(clf_set1)"
      ],
      "execution_count": 73,
      "outputs": []
    },
    {
      "cell_type": "code",
      "metadata": {
        "id": "qiZwK0UJKQod",
        "colab_type": "code",
        "colab": {
          "base_uri": "https://localhost:8080/",
          "height": 765
        },
        "outputId": "ddea3b6b-5543-4475-8893-94c1b5260187"
      },
      "source": [
        "print_train_cv_score(lst_train_scores_set1, lst_cv_scores_set1)"
      ],
      "execution_count": 74,
      "outputs": [
        {
          "output_type": "stream",
          "text": [
            "\n",
            "---------Train scores----------\n",
            "Depth :1 Estimator :70 Auc score:0.6905013799095844\n",
            "Depth :1 Estimator :80 Auc score:0.6963131594812365\n",
            "Depth :1 Estimator :90 Auc score:0.7008900281709339\n",
            "Depth :1 Estimator :100 Auc score:0.7053262415388343\n",
            "Depth :2 Estimator :70 Auc score:0.735784850236441\n",
            "Depth :2 Estimator :80 Auc score:0.742561216201952\n",
            "Depth :2 Estimator :90 Auc score:0.7488896675477363\n",
            "Depth :2 Estimator :100 Auc score:0.7548403578264377\n",
            "Depth :3 Estimator :70 Auc score:0.7814214881623625\n",
            "Depth :3 Estimator :80 Auc score:0.791426071690365\n",
            "Depth :3 Estimator :90 Auc score:0.799573975449615\n",
            "Depth :3 Estimator :100 Auc score:0.8071635538986249\n",
            "Depth :4 Estimator :70 Auc score:0.8308922967609043\n",
            "Depth :4 Estimator :80 Auc score:0.8417673814869282\n",
            "Depth :4 Estimator :90 Auc score:0.8509165002190812\n",
            "Depth :4 Estimator :100 Auc score:0.8591510015641198\n",
            "Depth :5 Estimator :70 Auc score:0.8809957253151319\n",
            "Depth :5 Estimator :80 Auc score:0.8913564937341575\n",
            "Depth :5 Estimator :90 Auc score:0.9018466911807709\n",
            "Depth :5 Estimator :100 Auc score:0.9093523745630668\n",
            "\n",
            "---------CV scores----------\n",
            "Depth :1 Estimator :70 Auc score:0.6762210434542193\n",
            "Depth :1 Estimator :80 Auc score:0.6818235088246664\n",
            "Depth :1 Estimator :90 Auc score:0.684882550150108\n",
            "Depth :1 Estimator :100 Auc score:0.6885903814200557\n",
            "Depth :2 Estimator :70 Auc score:0.6963566140579615\n",
            "Depth :2 Estimator :80 Auc score:0.7003473458906698\n",
            "Depth :2 Estimator :90 Auc score:0.7034023036661639\n",
            "Depth :2 Estimator :100 Auc score:0.7062628416680727\n",
            "Depth :3 Estimator :70 Auc score:0.7076372440144801\n",
            "Depth :3 Estimator :80 Auc score:0.7113022641852251\n",
            "Depth :3 Estimator :90 Auc score:0.7132550016839362\n",
            "Depth :3 Estimator :100 Auc score:0.7150542177334849\n",
            "Depth :4 Estimator :70 Auc score:0.7124842301459141\n",
            "Depth :4 Estimator :80 Auc score:0.7154220808702019\n",
            "Depth :4 Estimator :90 Auc score:0.7177147642289893\n",
            "Depth :4 Estimator :100 Auc score:0.7195437322900053\n",
            "Depth :5 Estimator :70 Auc score:0.7151968840473715\n",
            "Depth :5 Estimator :80 Auc score:0.7173028320835346\n",
            "Depth :5 Estimator :90 Auc score:0.7192192733715924\n",
            "Depth :5 Estimator :100 Auc score:0.7202708428563155\n"
          ],
          "name": "stdout"
        }
      ]
    },
    {
      "cell_type": "code",
      "metadata": {
        "id": "8umEJaJvwe85",
        "colab_type": "code",
        "colab": {
          "base_uri": "https://localhost:8080/",
          "height": 355
        },
        "outputId": "84f0541d-53e1-43d8-adb8-ad84852d99d1"
      },
      "source": [
        "plot_HeatMap(lst_train_scores_set1, lst_cv_scores_set1)"
      ],
      "execution_count": 75,
      "outputs": [
        {
          "output_type": "display_data",
          "data": {
            "image/png": "[encoded data removed]",
            "text/plain": [
              "<Figure size 1080x360 with 4 Axes>"
            ]
          },
          "metadata": {
            "tags": []
          }
        }
      ]
    },
    {
      "cell_type": "markdown",
      "metadata": {
        "id": "i5X5VmNvxblL",
        "colab_type": "text"
      },
      "source": [
        "## Training the model with the Best Parameters"
      ]
    },
    {
      "cell_type": "code",
      "metadata": {
        "id": "PGybWj6BwfBf",
        "colab_type": "code",
        "colab": {
          "base_uri": "https://localhost:8080/",
          "height": 136
        },
        "outputId": "b703a00d-7262-4700-a5d9-0cabc3fe2f5f"
      },
      "source": [
        "GBDT_clf_set1 = xgb.XGBClassifier(max_depth= clf_set1.best_params_['max_depth'],n_estimators= clf_set1.best_params_['n_estimators'])\n",
        "GBDT_clf_set1.fit(X_tr_set1, y_train)"
      ],
      "execution_count": 76,
      "outputs": [
        {
          "output_type": "execute_result",
          "data": {
            "text/plain": [
              "XGBClassifier(base_score=0.5, booster='gbtree', colsample_bylevel=1,\n",
              "              colsample_bynode=1, colsample_bytree=1, gamma=0,\n",
              "              learning_rate=0.1, max_delta_step=0, max_depth=5,\n",
              "              min_child_weight=1, missing=None, n_estimators=100, n_jobs=1,\n",
              "              nthread=None, objective='binary:logistic', random_state=0,\n",
              "              reg_alpha=0, reg_lambda=1, scale_pos_weight=1, seed=None,\n",
              "              silent=None, subsample=1, verbosity=1)"
            ]
          },
          "metadata": {
            "tags": []
          },
          "execution_count": 76
        }
      ]
    },
    {
      "cell_type": "markdown",
      "metadata": {
        "id": "QWGwD4_zxnyL",
        "colab_type": "text"
      },
      "source": [
        "## Finding AUC Curve"
      ]
    },
    {
      "cell_type": "code",
      "metadata": {
        "id": "A7l4Awrtwev-",
        "colab_type": "code",
        "colab": {
          "base_uri": "https://localhost:8080/",
          "height": 102
        },
        "outputId": "6a11ea64-5e43-4a8d-e52b-2ece35287fcd"
      },
      "source": [
        "y_train_proba_set1 = GBDT_clf_set1.predict_proba(X_tr_set1)[:,1]\n",
        "y_test_proba_set1 = GBDT_clf_set1.predict_proba(X_te_set1)[:,1]\n",
        "#Finding AUC on train and test data\n",
        "train_auc_set1 = roc_auc_score(y_train, y_train_proba_set1)\n",
        "print('Train Auc for set 1')\n",
        "print(train_auc_set1)\n",
        "test_auc_set1 = roc_auc_score(y_test, y_test_proba_set1)\n",
        "print('\\n Test Auc for set 1')\n",
        "print(test_auc_set1)\n"
      ],
      "execution_count": 79,
      "outputs": [
        {
          "output_type": "stream",
          "text": [
            "Train Auc for set 1\n",
            "0.8777373371729402\n",
            "\n",
            " Test Auc for set 1\n",
            "0.6971917581036333\n"
          ],
          "name": "stdout"
        }
      ]
    },
    {
      "cell_type": "markdown",
      "metadata": {
        "id": "MfxyvMIgzM4V",
        "colab_type": "text"
      },
      "source": [
        "## Ploting ROC Curve"
      ]
    },
    {
      "cell_type": "code",
      "metadata": {
        "id": "d2C5ehF8wes4",
        "colab_type": "code",
        "colab": {
          "base_uri": "https://localhost:8080/",
          "height": 301
        },
        "outputId": "60458b99-0e12-49df-bb05-724300794268"
      },
      "source": [
        "#Finding FPR and TPR both on train and test\n",
        "train_fpr_set1, train_tpr_set1, train_threshold_set1 = roc_curve(y_train, y_train_proba_set1)\n",
        "test_fpr_set1, test_tpr_set1, test_threshold_set1 = roc_curve(y_test, y_test_proba_set1)\n",
        "#Plotting AUC curve\n",
        "plot_AUC(train_fpr_set1, train_tpr_set1, test_fpr_set1, test_tpr_set1, train_auc_set1, test_auc_set1,'ROC curve on Train and Test data for Feature set 1')"
      ],
      "execution_count": 80,
      "outputs": [
        {
          "output_type": "display_data",
          "data": {
            "image/png": "[encoded data removed]",
            "text/plain": [
              "<Figure size 432x288 with 1 Axes>"
            ]
          },
          "metadata": {
            "tags": [],
            "needs_background": "light"
          }
        }
      ]
    },
    {
      "cell_type": "markdown",
      "metadata": {
        "id": "6SDeXpfWzjhX",
        "colab_type": "text"
      },
      "source": [
        "## Confusion Matrix"
      ]
    },
    {
      "cell_type": "code",
      "metadata": {
        "id": "-kPnk8HZzTtY",
        "colab_type": "code",
        "colab": {
          "base_uri": "https://localhost:8080/",
          "height": 285
        },
        "outputId": "272474fd-2804-4d12-adde-5b63617b5419"
      },
      "source": [
        "#Predicting y_test\n",
        "y_test_pred_set1 = GBDT_clf_set1.predict(X_te_set1)\n",
        "confusion_matrix_set1 = confusion_matrix(y_test, y_test_pred_set1)\n",
        "#Seaborn Heatmap representaion of Train confusion matrix\n",
        "sns.heatmap(confusion_matrix_set1, annot=True, fmt=\"d\")\n"
      ],
      "execution_count": 81,
      "outputs": [
        {
          "output_type": "execute_result",
          "data": {
            "text/plain": [
              "<matplotlib.axes._subplots.AxesSubplot at 0x7f832be64470>"
            ]
          },
          "metadata": {
            "tags": []
          },
          "execution_count": 81
        },
        {
          "output_type": "display_data",
          "data": {
            "image/png": "[encoded data removed]",
            "text/plain": [
              "<Figure size 432x288 with 2 Axes>"
            ]
          },
          "metadata": {
            "tags": [],
            "needs_background": "light"
          }
        }
      ]
    },
    {
      "cell_type": "markdown",
      "metadata": {
        "id": "JklsMNDFzup5",
        "colab_type": "text"
      },
      "source": [
        "# MODEL2"
      ]
    },
    {
      "cell_type": "code",
      "metadata": {
        "id": "Md_Q-4hWzTyh",
        "colab_type": "code",
        "colab": {
          "base_uri": "https://localhost:8080/",
          "height": 34
        },
        "outputId": "43ff26b3-2252-4ac5-d9ca-18adc7deed4c"
      },
      "source": [
        "clf = xgb.XGBClassifier()\n",
        "#Finding best alpha using GridSearchCV method\n",
        "clf_set2 = GridSearchCV(estimator = clf, param_grid= param, cv=n_folds, scoring='roc_auc',return_train_score=True)\n",
        "clf_set2.fit(X_tr_set2, y_train)\n",
        "clf_set2.best_params_\n"
      ],
      "execution_count": 84,
      "outputs": [
        {
          "output_type": "execute_result",
          "data": {
            "text/plain": [
              "{'max_depth': 4, 'n_estimators': 100}"
            ]
          },
          "metadata": {
            "tags": []
          },
          "execution_count": 84
        }
      ]
    },
    {
      "cell_type": "code",
      "metadata": {
        "id": "PeOqvV3KzTpd",
        "colab_type": "code",
        "colab": {}
      },
      "source": [
        "lst_train_scores_set2, lst_cv_scores_set2 = getTrain_and_Cv_scores(clf_set2)"
      ],
      "execution_count": 85,
      "outputs": []
    },
    {
      "cell_type": "code",
      "metadata": {
        "id": "0jmYICly0GLe",
        "colab_type": "code",
        "colab": {
          "base_uri": "https://localhost:8080/",
          "height": 765
        },
        "outputId": "d251e285-fb9f-4b3b-d244-1f4bceb031cf"
      },
      "source": [
        "print_train_cv_score(lst_train_scores_set2, lst_cv_scores_set2)"
      ],
      "execution_count": 86,
      "outputs": [
        {
          "output_type": "stream",
          "text": [
            "\n",
            "---------Train scores----------\n",
            "Depth :1 Estimator :70 Auc score:0.6984754122627588\n",
            "Depth :1 Estimator :80 Auc score:0.7032406531423042\n",
            "Depth :1 Estimator :90 Auc score:0.7072152727572026\n",
            "Depth :1 Estimator :100 Auc score:0.7110154354832804\n",
            "Depth :2 Estimator :70 Auc score:0.740180550421898\n",
            "Depth :2 Estimator :80 Auc score:0.7456700398435151\n",
            "Depth :2 Estimator :90 Auc score:0.750933044704114\n",
            "Depth :2 Estimator :100 Auc score:0.7553778550164326\n",
            "Depth :3 Estimator :70 Auc score:0.7803778133373139\n",
            "Depth :3 Estimator :80 Auc score:0.7877790307093718\n",
            "Depth :3 Estimator :90 Auc score:0.7945653638697868\n",
            "Depth :3 Estimator :100 Auc score:0.8009394593114004\n",
            "Depth :4 Estimator :70 Auc score:0.8328639015296867\n",
            "Depth :4 Estimator :80 Auc score:0.8442623858341748\n",
            "Depth :4 Estimator :90 Auc score:0.8534123504341512\n",
            "Depth :4 Estimator :100 Auc score:0.8624752392273588\n",
            "Depth :5 Estimator :70 Auc score:0.8919388411936348\n",
            "Depth :5 Estimator :80 Auc score:0.9042766790422568\n",
            "Depth :5 Estimator :90 Auc score:0.916160514769191\n",
            "Depth :5 Estimator :100 Auc score:0.9255301873663493\n",
            "\n",
            "---------CV scores----------\n",
            "Depth :1 Estimator :70 Auc score:0.6789474334980784\n",
            "Depth :1 Estimator :80 Auc score:0.6824654705279722\n",
            "Depth :1 Estimator :90 Auc score:0.6856406740499601\n",
            "Depth :1 Estimator :100 Auc score:0.6878151196611522\n",
            "Depth :2 Estimator :70 Auc score:0.6980449878924467\n",
            "Depth :2 Estimator :80 Auc score:0.7007684105023638\n",
            "Depth :2 Estimator :90 Auc score:0.7035527034255327\n",
            "Depth :2 Estimator :100 Auc score:0.7057481860878418\n",
            "Depth :3 Estimator :70 Auc score:0.7069143859364869\n",
            "Depth :3 Estimator :80 Auc score:0.7094953522749434\n",
            "Depth :3 Estimator :90 Auc score:0.7116223021887089\n",
            "Depth :3 Estimator :100 Auc score:0.7125804269881129\n",
            "Depth :4 Estimator :70 Auc score:0.7095541808146937\n",
            "Depth :4 Estimator :80 Auc score:0.7108175562893567\n",
            "Depth :4 Estimator :90 Auc score:0.7122915403268424\n",
            "Depth :4 Estimator :100 Auc score:0.7142985043250508\n",
            "Depth :5 Estimator :70 Auc score:0.7106166704385929\n",
            "Depth :5 Estimator :80 Auc score:0.7118081881402288\n",
            "Depth :5 Estimator :90 Auc score:0.7126637838245949\n",
            "Depth :5 Estimator :100 Auc score:0.7124846093856615\n"
          ],
          "name": "stdout"
        }
      ]
    },
    {
      "cell_type": "code",
      "metadata": {
        "id": "BP4kwS_I0GOa",
        "colab_type": "code",
        "colab": {
          "base_uri": "https://localhost:8080/",
          "height": 355
        },
        "outputId": "154ec3ae-e1f8-4890-eadf-6c317e980301"
      },
      "source": [
        "plot_HeatMap(lst_train_scores_set2, lst_cv_scores_set2)"
      ],
      "execution_count": 87,
      "outputs": [
        {
          "output_type": "display_data",
          "data": {
            "image/png": "[encoded data removed]",
            "text/plain": [
              "<Figure size 1080x360 with 4 Axes>"
            ]
          },
          "metadata": {
            "tags": [],
            "needs_background": "light"
          }
        }
      ]
    },
    {
      "cell_type": "code",
      "metadata": {
        "id": "rHsp54hh0GHw",
        "colab_type": "code",
        "colab": {
          "base_uri": "https://localhost:8080/",
          "height": 136
        },
        "outputId": "8c915916-f1f4-44f4-f01c-3a5a7ca72829"
      },
      "source": [
        "GBDT_clf_set2 = xgb.XGBClassifier(max_depth= clf_set2.best_params_['max_depth'],n_estimators= clf_set2.best_params_['n_estimators'])\n",
        "GBDT_clf_set2.fit(X_tr_set2, y_train)"
      ],
      "execution_count": 88,
      "outputs": [
        {
          "output_type": "execute_result",
          "data": {
            "text/plain": [
              "XGBClassifier(base_score=0.5, booster='gbtree', colsample_bylevel=1,\n",
              "              colsample_bynode=1, colsample_bytree=1, gamma=0,\n",
              "              learning_rate=0.1, max_delta_step=0, max_depth=4,\n",
              "              min_child_weight=1, missing=None, n_estimators=100, n_jobs=1,\n",
              "              nthread=None, objective='binary:logistic', random_state=0,\n",
              "              reg_alpha=0, reg_lambda=1, scale_pos_weight=1, seed=None,\n",
              "              silent=None, subsample=1, verbosity=1)"
            ]
          },
          "metadata": {
            "tags": []
          },
          "execution_count": 88
        }
      ]
    },
    {
      "cell_type": "code",
      "metadata": {
        "id": "2Ic3-SF_0f2L",
        "colab_type": "code",
        "colab": {
          "base_uri": "https://localhost:8080/",
          "height": 102
        },
        "outputId": "b5c26d8a-daf5-451f-d4d9-93d630594315"
      },
      "source": [
        "y_train_proba_set2 = GBDT_clf_set2.predict_proba(X_tr_set2)[:,1]\n",
        "y_test_proba_set2 = GBDT_clf_set2.predict_proba(X_te_set2)[:,1]\n",
        "#Finding AUC on train and test data\n",
        "train_auc_set2 = roc_auc_score(y_train, y_train_proba_set2)\n",
        "print('Train Auc for set 2')\n",
        "print(train_auc_set2)\n",
        "test_auc_set2 = roc_auc_score(y_test, y_test_proba_set2)\n",
        "print('\\n Test Auc for set 2')\n",
        "print(test_auc_set2)\n"
      ],
      "execution_count": 90,
      "outputs": [
        {
          "output_type": "stream",
          "text": [
            "Train Auc for set 2\n",
            "0.829174014715033\n",
            "\n",
            " Test Auc for set 2\n",
            "0.6949445953872571\n"
          ],
          "name": "stdout"
        }
      ]
    },
    {
      "cell_type": "code",
      "metadata": {
        "id": "Vft3uuAK0fxY",
        "colab_type": "code",
        "colab": {
          "base_uri": "https://localhost:8080/",
          "height": 301
        },
        "outputId": "858fc41b-b563-45c6-be2a-314938e19bb9"
      },
      "source": [
        "#Finding FPR and TPR both on train and test\n",
        "train_fpr_set2, train_tpr_set2, train_threshold_set2 = roc_curve(y_train, y_train_proba_set2)\n",
        "test_fpr_set2, test_tpr_set2, test_threshold_set2 = roc_curve(y_test, y_test_proba_set2)\n",
        "#Plotting AUC curve\n",
        "plot_AUC(train_fpr_set2, train_tpr_set2, test_fpr_set2, test_tpr_set2, train_auc_set2, test_auc_set2,'ROC curve on Train and Test data for Feature set 2')"
      ],
      "execution_count": 91,
      "outputs": [
        {
          "output_type": "display_data",
          "data": {
            "image/png": "[encoded data removed]",
            "text/plain": [
              "<Figure size 432x288 with 1 Axes>"
            ]
          },
          "metadata": {
            "tags": [],
            "needs_background": "light"
          }
        }
      ]
    },
    {
      "cell_type": "code",
      "metadata": {
        "id": "RPbVQFPy0nw1",
        "colab_type": "code",
        "colab": {
          "base_uri": "https://localhost:8080/",
          "height": 285
        },
        "outputId": "1793ac78-4ca7-4fc3-9cfa-3c69cc2ef699"
      },
      "source": [
        "#Predicting y_test\n",
        "y_test_pred_set2 = GBDT_clf_set2.predict(X_te_set2)\n",
        "confusion_matrix_set2 = confusion_matrix(y_test, y_test_pred_set2)\n",
        "#Seaborn Heatmap representaion of Train confusion matrix\n",
        "sns.heatmap(confusion_matrix_set2, annot=True, fmt=\"d\")\n"
      ],
      "execution_count": 94,
      "outputs": [
        {
          "output_type": "execute_result",
          "data": {
            "text/plain": [
              "<matplotlib.axes._subplots.AxesSubplot at 0x7f832bdee2b0>"
            ]
          },
          "metadata": {
            "tags": []
          },
          "execution_count": 94
        },
        {
          "output_type": "display_data",
          "data": {
            "image/png": "[encoded data removed]",
            "text/plain": [
              "<Figure size 432x288 with 2 Axes>"
            ]
          },
          "metadata": {
            "tags": [],
            "needs_background": "light"
          }
        }
      ]
    },
    {
      "cell_type": "markdown",
      "metadata": {
        "id": "YhFN-lDWsc4G",
        "colab_type": "text"
      },
      "source": [
        "<h1>3. Summary</h1>\n",
        "\n",
        "<br> as mentioned in the step 4 of instructions"
      ]
    },
    {
      "cell_type": "code",
      "metadata": {
        "id": "rWdcpfELHyYO",
        "colab_type": "code",
        "colab": {
          "base_uri": "https://localhost:8080/",
          "height": 119
        },
        "outputId": "4851f99e-bc0f-4380-b623-1c2d575a1f44"
      },
      "source": [
        "from prettytable import PrettyTable\n",
        "x = PrettyTable()\n",
        "x.field_names = [\"Vectorizer\", \"Model\", \"Hyper parameter\", \"AUC\"]\n",
        "x.add_row([\"TFIDF\", 'GBDT', clf_set1.best_params_, test_auc_set2])\n",
        "x.add_row([\"W2V\", 'GBDT', clf_set2.best_params_, test_auc_set1])\n",
        "print(x)\n"
      ],
      "execution_count": 95,
      "outputs": [
        {
          "output_type": "stream",
          "text": [
            "+------------+-------+---------------------------------------+--------------------+\n",
            "| Vectorizer | Model |            Hyper parameter            |        AUC         |\n",
            "+------------+-------+---------------------------------------+--------------------+\n",
            "|   TFIDF    |  GBDT | {'max_depth': 5, 'n_estimators': 100} | 0.6949445953872571 |\n",
            "|    W2V     |  GBDT | {'max_depth': 4, 'n_estimators': 100} | 0.6971917581036333 |\n",
            "+------------+-------+---------------------------------------+--------------------+\n"
          ],
          "name": "stdout"
        }
      ]
    }
  ]
}